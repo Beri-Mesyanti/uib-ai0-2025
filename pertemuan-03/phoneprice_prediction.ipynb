{
 "cells": [
  {
   "cell_type": "code",
   "execution_count": null,
   "id": "460a33be",
   "metadata": {
    "vscode": {
     "languageId": "plaintext"
    }
   },
   "outputs": [],
   "source": [
    "import pandas as pd\n",
    "import numpy as np\n",
    "import matplotlib.pyplot as plt\n",
    "import seaborn as sns\n",
    "from sklearn.model_selection import train_test_split\n",
    "from sklearn.linear_model import LinearRegression\n",
    "from sklearn.metrics import mean_squared_error\n",
    "\n",
    "# Read CSV \n",
    "data = pd.read_csv(\"data-smartphone.csv\")\n",
    "\n",
    "# Display the first few rows\n",
    "data.head()"
   ]
  },
  {
   "cell_type": "code",
   "execution_count": null,
   "id": "305705f3",
   "metadata": {
    "vscode": {
     "languageId": "plaintext"
    }
   },
   "outputs": [],
   "source": [
    "data['Brand'].value_counts().plot.bar()\n",
    "plt.title(\"The Distribution Of Brands\")\n",
    "plt.show()"
   ]
  },
  {
   "cell_type": "code",
   "execution_count": null,
   "id": "47c38820",
   "metadata": {
    "vscode": {
     "languageId": "plaintext"
    }
   },
   "outputs": [],
   "source": [
    "data.boxplot()\n",
    "plt.xticks(rotation =45)\n",
    "plt.show()"
   ]
  },
  {
   "cell_type": "code",
   "execution_count": null,
   "id": "04e871cc",
   "metadata": {
    "vscode": {
     "languageId": "plaintext"
    }
   },
   "outputs": [],
   "source": [
    "numeric_cols= data.select_dtypes(include=['number']).columns\n",
    "\n",
    "for i in numeric_cols :\n",
    "    sns.boxplot(data =data , x= 'Brand' , y= i)\n",
    "    plt.ylabel(i)\n",
    "    plt.xticks(rotation=45)\n",
    "    plt.title(\"box plot of \"+i)\n",
    "    plt.show()"
   ]
  },
  {
   "cell_type": "code",
   "execution_count": null,
   "id": "e9f8c29e",
   "metadata": {
    "vscode": {
     "languageId": "plaintext"
    }
   },
   "outputs": [],
   "source": [
    "numeric_cols = data.select_dtypes(include=['number']).columns.difference([\"Price ($)\"])\n",
    "\n",
    "for i in numeric_cols:\n",
    "    sns.scatterplot(data=data, x=i, y='Price ($)', hue='Brand')\n",
    "    plt.ylabel(i)\n",
    "    plt.xticks(rotation=45)\n",
    "    plt.title(f\"Price and {i}\")\n",
    "    plt.show()"
   ]
  },
  {
   "cell_type": "code",
   "execution_count": null,
   "id": "52474e77",
   "metadata": {
    "vscode": {
     "languageId": "plaintext"
    }
   },
   "outputs": [],
   "source": [
    "numeric_cols= data.select_dtypes(include=['number'])\n",
    "corr_mat=numeric_cols.corr()\n",
    "sns.heatmap(corr_mat,annot=True, fmt='.2f')"
   ]
  },
  {
   "cell_type": "code",
   "execution_count": null,
   "id": "a0e6ee54",
   "metadata": {
    "vscode": {
     "languageId": "plaintext"
    }
   },
   "outputs": [],
   "source": [
    "from sklearn.preprocessing import MinMaxScaler\n",
    "from sklearn.model_selection import train_test_split\n",
    "from sklearn.linear_model import LinearRegression\n",
    "from sklearn.ensemble import RandomForestRegressor\n",
    "from xgboost import XGBRegressor\n",
    "from sklearn.metrics import mean_squared_error, r2_score, mean_absolute_error\n",
    "import pandas as pd\n",
    "\n",
    "# Bersihkan kolom harga\n",
    "data['Price ($)'] = (\n",
    "    data['Price ($)']\n",
    "    .replace(r'[\\$,]', '', regex=True)  # note the r before the string\n",
    "    .astype(float)\n",
    ")\n",
    "\n",
    "# Pisahkan fitur dan target\n",
    "x = data.drop(columns=['Price ($)'])\n",
    "y = data['Price ($)']\n",
    "\n",
    "# Ambil hanya kolom numerik\n",
    "x_numeric = x.select_dtypes(include=['number'])\n",
    "\n",
    "# Normalisasi hanya fitur numerik\n",
    "scaler = MinMaxScaler()\n",
    "x_scaled = pd.DataFrame(scaler.fit_transform(x_numeric), columns=x_numeric.columns)\n",
    "\n",
    "# Split data\n",
    "x_train, x_test, y_train, y_test = train_test_split(x_scaled, y, test_size=0.3, random_state=42)\n",
    "\n",
    "# Latih model\n",
    "xgb_model = XGBRegressor(\n",
    "    n_estimators=500,\n",
    "    learning_rate=0.05,\n",
    "    max_depth=6,\n",
    "    subsample=0.8,\n",
    "    colsample_bytree=0.8,\n",
    "    random_state=42\n",
    ")\n",
    "xgb_model.fit(x_train, y_train)\n",
    "\n",
    "# Predictions\n",
    "y_pred_xgb = xgb_model.predict(x_test)"
   ]
  },
  {
   "cell_type": "code",
   "execution_count": null,
   "id": "e8c16750",
   "metadata": {
    "vscode": {
     "languageId": "plaintext"
    }
   },
   "outputs": [],
   "source": [
    "# Evaluasi performa model\n",
    "mse = mean_squared_error(y_test, y_pred_xgb)\n",
    "mae = mean_absolute_error(y_test, y_pred_xgb)\n",
    "rmse = mse ** 0.5\n",
    "r2 = r2_score(y_test, y_pred_xgb)\n",
    "\n",
    "print(\"=== Evaluasi Model XGBoost ===\")\n",
    "print(f\"MSE  : {mse:.4f}\")\n",
    "print(f\"MAE  : {mae:.4f}\")\n",
    "print(f\"RMSE : {rmse:.4f}\")\n",
    "print(f\"R²   : {r2:.4f}\")                          # R² Score"
   ]
  },
  {
   "cell_type": "code",
   "execution_count": null,
   "id": "84f3b444",
   "metadata": {
    "vscode": {
     "languageId": "plaintext"
    }
   },
   "outputs": [],
   "source": [
    "import matplotlib.pyplot as plt\n",
    "import seaborn as sns\n",
    "\n",
    "# Buat figure\n",
    "plt.figure(figsize=(7,7))\n",
    "\n",
    "# Scatter plot: harga asli vs prediksi\n",
    "sns.scatterplot(x=y_test, y=y_pred_xgb, color=\"dodgerblue\", alpha=0.6, s=60)\n",
    "\n",
    "# Garis diagonal (garis sempurna prediksi = real)\n",
    "max_val = max(y_test.max(), y_pred_xgb.max())\n",
    "min_val = min(y_test.min(), y_pred_xgb.min())\n",
    "plt.plot([min_val, max_val], [min_val, max_val], color='red', linestyle='--', linewidth=2, label=\"Perfect Prediction\")\n",
    "\n",
    "# Label dan judul\n",
    "plt.title(\"Perbandingan Harga Asli vs Prediksi\", fontsize=14)\n",
    "plt.xlabel(\"Harga Asli (USD)\")\n",
    "plt.ylabel(\"Harga Prediksi (USD)\")\n",
    "plt.legend()\n",
    "plt.grid(True, linestyle='--', alpha=0.4)\n",
    "plt.tight_layout()\n",
    "plt.show()"
   ]
  },
  {
   "cell_type": "code",
   "execution_count": null,
   "id": "82b35abb",
   "metadata": {
    "vscode": {
     "languageId": "plaintext"
    }
   },
   "outputs": [],
   "source": [
    "# Ambil semua kolom brand hp di x.columns \n",
    "brand_list = [col for col in x.columns if col.startswith('Brand_')]\n",
    "\n",
    "def predict_phone_price(brand, storage, ram, camera, screen_size, battery) :\n",
    "    new_data = pd.DataFrame([{\n",
    "        'Storage ': storage,\n",
    "        'RAM ': ram,\n",
    "        'Screen Size (inches)': screen_size,\n",
    "        'Camera (MP)': camera,\n",
    "        'Battery Capacity (mAh)': battery,\n",
    "    }])\n",
    "    \n",
    "    for b in brand_list:\n",
    "        if b == f'Brand_{brand}':\n",
    "            new_data[b] = 1\n",
    "        else:\n",
    "            new_data[b] = 0\n",
    "            \n",
    "    new_data = new_data[x_numeric.columns]\n",
    "    \n",
    "    new_data_scaled = pd.DataFrame(scaler.transform(new_data), columns=x_numeric.columns)\n",
    "    \n",
    "    predicted_price = xgb_model.predict(new_data_scaled)[0]\n",
    "    \n",
    "    print(f\"📱 Prediksi harga untuk smartphone {brand} (Storage: {storage} GB, RAM: {ram} GB, Camera: {camera} MP dan Screen: {screen_size} inch): ${predicted_price:.2f}\")\n",
    "    return predicted_price"
   ]
  },
  {
   "cell_type": "code",
   "execution_count": null,
   "id": "cb3dc30f",
   "metadata": {
    "vscode": {
     "languageId": "plaintext"
    }
   },
   "outputs": [],
   "source": [
    "predict_phone_price(\n",
    "    brand=\"Apple\",\n",
    "    storage=256,\n",
    "    ram=8,\n",
    "    camera=108,\n",
    "    screen_size=6.8,\n",
    "    battery=5000\n",
    ")"
   ]
  }
 ],
 "metadata": {
  "language_info": {
   "name": "python"
  }
 },
 "nbformat": 4,
 "nbformat_minor": 5
}
